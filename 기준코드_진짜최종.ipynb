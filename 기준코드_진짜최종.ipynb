{
  "cells": [
    {
      "cell_type": "code",
      "execution_count": 1,
      "metadata": {
        "colab": {
          "base_uri": "https://localhost:8080/",
          "height": 35
        },
        "id": "qCQPFOys4iG_",
        "outputId": "eebcf18a-980a-4d77-e768-6b073c2b2a1a"
      },
      "outputs": [
        {
          "data": {
            "text/html": [
              "        <script type=\"text/javascript\">\n",
              "        window.PlotlyConfig = {MathJaxConfig: 'local'};\n",
              "        if (window.MathJax && window.MathJax.Hub && window.MathJax.Hub.Config) {window.MathJax.Hub.Config({SVG: {font: \"STIX-Web\"}});}\n",
              "        if (typeof require !== 'undefined') {\n",
              "        require.undef(\"plotly\");\n",
              "        requirejs.config({\n",
              "            paths: {\n",
              "                'plotly': ['https://cdn.plot.ly/plotly-2.12.1.min']\n",
              "            }\n",
              "        });\n",
              "        require(['plotly'], function(Plotly) {\n",
              "            window._Plotly = Plotly;\n",
              "        });\n",
              "        }\n",
              "        </script>\n",
              "        "
            ]
          },
          "metadata": {},
          "output_type": "display_data"
        }
      ],
      "source": [
        "import numpy as np\n",
        "import pandas as pd\n",
        "import seaborn as sns\n",
        "import matplotlib.pyplot as plt\n",
        "\n",
        "from plotly.offline import init_notebook_mode, iplot, plot\n",
        "import plotly as py\n",
        "init_notebook_mode(connected=True)\n",
        "import plotly.graph_objs as go\n",
        "import plotly.express as px\n",
        "from plotly.subplots import make_subplots\n",
        "import plotly.figure_factory as ff\n",
        "\n",
        "from sklearn.preprocessing import StandardScaler\n",
        "from sklearn.model_selection import train_test_split, GridSearchCV\n",
        "from sklearn.metrics import accuracy_score, roc_curve, auc, classification_report, confusion_matrix, f1_score, recall_score\n",
        "from sklearn.model_selection import KFold, cross_val_score\n",
        "from sklearn.pipeline import Pipeline, FeatureUnion\n",
        "from sklearn.linear_model import LogisticRegression\n",
        "from sklearn.decomposition import PCA\n",
        "from sklearn.feature_selection import SelectKBest\n",
        "from sklearn.preprocessing import LabelEncoder\n",
        "from sklearn.preprocessing import StandardScaler, RobustScaler\n",
        "\n",
        "import miceforest as mf\n",
        "\n",
        "from xgboost import XGBClassifier\n",
        "\n",
        "from collections import Counter\n",
        "\n",
        "import warnings\n",
        "warnings.filterwarnings(\"ignore\")\n"
      ]
    },
    {
      "cell_type": "code",
      "execution_count": 2,
      "metadata": {},
      "outputs": [
        {
          "name": "stdout",
          "output_type": "stream",
          "text": [
            "python : 3.11.7\n",
            "sklearn: 1.2.2\n",
            "numpy  : 1.26.4\n",
            "scipy  : 1.11.4\n",
            "pandas : 2.1.4\n",
            "joblib : 1.5.2\n"
          ]
        }
      ],
      "source": [
        "import platform, sklearn, numpy as np, pandas as pd, scipy, joblib\n",
        "\n",
        "print(\"python :\", platform.python_version())\n",
        "print(\"sklearn:\", sklearn.__version__)\n",
        "print(\"numpy  :\", np.__version__)\n",
        "print(\"scipy  :\", scipy.__version__)\n",
        "print(\"pandas :\", pd.__version__)\n",
        "print(\"joblib :\", joblib.__version__)"
      ]
    },
    {
      "cell_type": "code",
      "execution_count": 3,
      "metadata": {
        "colab": {
          "base_uri": "https://localhost:8080/",
          "height": 206
        },
        "id": "8kdvzV2V4iHC",
        "outputId": "5278a3db-6d09-484d-ade1-435a25f45fe0"
      },
      "outputs": [
        {
          "data": {
            "text/html": [
              "<div>\n",
              "<style scoped>\n",
              "    .dataframe tbody tr th:only-of-type {\n",
              "        vertical-align: middle;\n",
              "    }\n",
              "\n",
              "    .dataframe tbody tr th {\n",
              "        vertical-align: top;\n",
              "    }\n",
              "\n",
              "    .dataframe thead th {\n",
              "        text-align: right;\n",
              "    }\n",
              "</style>\n",
              "<table border=\"1\" class=\"dataframe\">\n",
              "  <thead>\n",
              "    <tr style=\"text-align: right;\">\n",
              "      <th></th>\n",
              "      <th>Age</th>\n",
              "      <th>Sex</th>\n",
              "      <th>Job</th>\n",
              "      <th>Housing</th>\n",
              "      <th>Saving accounts</th>\n",
              "      <th>Checking account</th>\n",
              "      <th>Credit amount</th>\n",
              "      <th>Duration</th>\n",
              "      <th>Purpose</th>\n",
              "      <th>Risk</th>\n",
              "    </tr>\n",
              "  </thead>\n",
              "  <tbody>\n",
              "    <tr>\n",
              "      <th>0</th>\n",
              "      <td>28</td>\n",
              "      <td>male</td>\n",
              "      <td>2</td>\n",
              "      <td>own</td>\n",
              "      <td>NaN</td>\n",
              "      <td>moderate</td>\n",
              "      <td>1887</td>\n",
              "      <td>18</td>\n",
              "      <td>business</td>\n",
              "      <td>good</td>\n",
              "    </tr>\n",
              "    <tr>\n",
              "      <th>1</th>\n",
              "      <td>35</td>\n",
              "      <td>male</td>\n",
              "      <td>2</td>\n",
              "      <td>own</td>\n",
              "      <td>NaN</td>\n",
              "      <td>NaN</td>\n",
              "      <td>1979</td>\n",
              "      <td>15</td>\n",
              "      <td>radio/TV</td>\n",
              "      <td>good</td>\n",
              "    </tr>\n",
              "    <tr>\n",
              "      <th>2</th>\n",
              "      <td>20</td>\n",
              "      <td>female</td>\n",
              "      <td>2</td>\n",
              "      <td>own</td>\n",
              "      <td>rich</td>\n",
              "      <td>moderate</td>\n",
              "      <td>1577</td>\n",
              "      <td>11</td>\n",
              "      <td>furniture/equipment</td>\n",
              "      <td>good</td>\n",
              "    </tr>\n",
              "    <tr>\n",
              "      <th>3</th>\n",
              "      <td>24</td>\n",
              "      <td>female</td>\n",
              "      <td>1</td>\n",
              "      <td>own</td>\n",
              "      <td>little</td>\n",
              "      <td>little</td>\n",
              "      <td>626</td>\n",
              "      <td>12</td>\n",
              "      <td>radio/TV</td>\n",
              "      <td>bad</td>\n",
              "    </tr>\n",
              "    <tr>\n",
              "      <th>4</th>\n",
              "      <td>55</td>\n",
              "      <td>male</td>\n",
              "      <td>2</td>\n",
              "      <td>own</td>\n",
              "      <td>little</td>\n",
              "      <td>little</td>\n",
              "      <td>6872</td>\n",
              "      <td>24</td>\n",
              "      <td>furniture/equipment</td>\n",
              "      <td>bad</td>\n",
              "    </tr>\n",
              "  </tbody>\n",
              "</table>\n",
              "</div>"
            ],
            "text/plain": [
              "   Age     Sex  Job Housing Saving accounts Checking account  Credit amount  \\\n",
              "0   28    male    2     own             NaN         moderate           1887   \n",
              "1   35    male    2     own             NaN              NaN           1979   \n",
              "2   20  female    2     own            rich         moderate           1577   \n",
              "3   24  female    1     own          little           little            626   \n",
              "4   55    male    2     own          little           little           6872   \n",
              "\n",
              "   Duration              Purpose  Risk  \n",
              "0        18             business  good  \n",
              "1        15             radio/TV  good  \n",
              "2        11  furniture/equipment  good  \n",
              "3        12             radio/TV   bad  \n",
              "4        24  furniture/equipment   bad  "
            ]
          },
          "execution_count": 3,
          "metadata": {},
          "output_type": "execute_result"
        }
      ],
      "source": [
        "data = pd.read_csv(\"data\\german_credit_train.csv\")\n",
        "data.drop([\"Unnamed: 0\"], axis=1,inplace= True)\n",
        "\n",
        "data.head()"
      ]
    },
    {
      "cell_type": "markdown",
      "metadata": {
        "id": "W6vGFXjZz7bi"
      },
      "source": [
        "## 파생변수"
      ]
    },
    {
      "cell_type": "code",
      "execution_count": 4,
      "metadata": {
        "id": "OUT4PD-SvSnG"
      },
      "outputs": [],
      "source": [
        "# 파생변수 넣 말\n",
        "data[\"Monthly payment\"]=data[\"Credit amount\"]/data[\"Duration\"]"
      ]
    },
    {
      "cell_type": "code",
      "execution_count": 5,
      "metadata": {},
      "outputs": [],
      "source": [
        "data.drop(columns=[\"Duration\"], inplace=True)"
      ]
    },
    {
      "cell_type": "markdown",
      "metadata": {
        "id": "xjR0qMYP0Blu"
      },
      "source": [
        "## 결측치 unknwon"
      ]
    },
    {
      "cell_type": "code",
      "execution_count": 6,
      "metadata": {
        "id": "hvgh6hDE4iHC"
      },
      "outputs": [],
      "source": [
        "#결측치를 unknown으로 따로 지정한 버전\n",
        "data['Saving accounts'].fillna('Unknown', inplace=True)\n",
        "data['Checking account'].fillna('Unknown', inplace=True)"
      ]
    },
    {
      "cell_type": "markdown",
      "metadata": {
        "id": "rwhcoGFA6RGU"
      },
      "source": [
        "## 결측치 miceforest"
      ]
    },
    {
      "cell_type": "code",
      "execution_count": 7,
      "metadata": {
        "id": "m1y35Qas6MLZ"
      },
      "outputs": [],
      "source": [
        "# # 원본 복사\n",
        "# df2 = data.copy()\n",
        "\n",
        "# for col in df2.select_dtypes(include=\"object\").columns:\n",
        "#     df2[col] = df2[col].astype(\"category\")\n",
        "\n",
        "# # -------------------------\n",
        "# # MICE with Random Forest\n",
        "# # -------------------------\n",
        "# # 1) Imputation Kernel 생성\n",
        "# kernel = mf.ImputationKernel(\n",
        "#     data=df2,\n",
        "#     datasets=1,             # 몇 개의 대치 데이터셋 만들지 (모델링에선 1개로 충분)\n",
        "#     save_all_iterations=True,\n",
        "#     random_state=42\n",
        "# )\n",
        "\n",
        "# # 2) 반복 (iterations 번 돌면서 변수별 결측치 순환 예측)\n",
        "# kernel.mice(iterations=5)   # 보통 5~10번 정도 반복\n",
        "\n",
        "# # 3) 완성된 데이터 얻기\n",
        "# # data[\"Saving accounts\"] = kernel.complete_data(dataset=0)[\"Saving accounts\"]\n",
        "# data[\"Checking account\"] = kernel.complete_data(dataset=0)[\"Checking account\"]\n",
        "\n",
        "# # -------------------------\n",
        "# # 결과 확인\n",
        "# # -------------------------\n",
        "# print(\"(after imputation):\")\n",
        "# # print(data[\"Saving accounts\"].value_counts(), \"\\n\")\n",
        "# print(data[\"Checking account\"].value_counts(), \"\\n\")"
      ]
    },
    {
      "cell_type": "markdown",
      "metadata": {
        "id": "lPuxulRX679c"
      },
      "source": [
        "## saving 원핫인코딩"
      ]
    },
    {
      "cell_type": "code",
      "execution_count": 8,
      "metadata": {
        "colab": {
          "base_uri": "https://localhost:8080/",
          "height": 273
        },
        "id": "ClzWEeGq4iHD",
        "outputId": "87e4f689-71e3-442f-f2c9-cbef8e0a09be"
      },
      "outputs": [],
      "source": [
        "# #인코딩\n",
        "# categoric_vars_list = [\"Sex\", \"Job\", \"Housing\", \"Saving accounts\", \"Checking account\", \"Purpose\", \"Risk\"]\n",
        "# numeric_vars_list = [\"Age\", \"Credit amount\"]\n",
        "\n",
        "# df = data.copy()\n",
        "\n",
        "# # job은 항상 라벨 인코딩\n",
        "# # saving accounts가 원핫 인코딩 된 버전\n",
        "\n",
        "# le = LabelEncoder()\n",
        "# df[\"Job\"] = le.fit_transform(df[\"Job\"])\n",
        "\n",
        "# categorical_for_ohe = [col for col in categoric_vars_list if col not in [\"Job\", \"Risk\"]]\n",
        "\n",
        "# df = pd.get_dummies(df, columns=categorical_for_ohe, drop_first=True)\n",
        "\n",
        "# df.head()\n"
      ]
    },
    {
      "cell_type": "markdown",
      "metadata": {
        "id": "LOLuhIqpz4Oc"
      },
      "source": [
        "## saving 라벨인코딩"
      ]
    },
    {
      "cell_type": "code",
      "execution_count": 9,
      "metadata": {
        "colab": {
          "base_uri": "https://localhost:8080/",
          "height": 243
        },
        "id": "dKK0ZGtjzkLq",
        "outputId": "2c31a4bf-a03a-4527-9931-ae4e739c1400"
      },
      "outputs": [
        {
          "data": {
            "text/html": [
              "<div>\n",
              "<style scoped>\n",
              "    .dataframe tbody tr th:only-of-type {\n",
              "        vertical-align: middle;\n",
              "    }\n",
              "\n",
              "    .dataframe tbody tr th {\n",
              "        vertical-align: top;\n",
              "    }\n",
              "\n",
              "    .dataframe thead th {\n",
              "        text-align: right;\n",
              "    }\n",
              "</style>\n",
              "<table border=\"1\" class=\"dataframe\">\n",
              "  <thead>\n",
              "    <tr style=\"text-align: right;\">\n",
              "      <th></th>\n",
              "      <th>Age</th>\n",
              "      <th>Job</th>\n",
              "      <th>Saving accounts</th>\n",
              "      <th>Credit amount</th>\n",
              "      <th>Risk</th>\n",
              "      <th>Monthly payment</th>\n",
              "      <th>Sex_male</th>\n",
              "      <th>Housing_own</th>\n",
              "      <th>Housing_rent</th>\n",
              "      <th>Checking account_little</th>\n",
              "      <th>Checking account_moderate</th>\n",
              "      <th>Checking account_rich</th>\n",
              "      <th>Purpose_car</th>\n",
              "      <th>Purpose_domestic appliances</th>\n",
              "      <th>Purpose_education</th>\n",
              "      <th>Purpose_furniture/equipment</th>\n",
              "      <th>Purpose_radio/TV</th>\n",
              "      <th>Purpose_repairs</th>\n",
              "      <th>Purpose_vacation/others</th>\n",
              "    </tr>\n",
              "  </thead>\n",
              "  <tbody>\n",
              "    <tr>\n",
              "      <th>0</th>\n",
              "      <td>28</td>\n",
              "      <td>2</td>\n",
              "      <td>4</td>\n",
              "      <td>1887</td>\n",
              "      <td>good</td>\n",
              "      <td>104.833333</td>\n",
              "      <td>True</td>\n",
              "      <td>True</td>\n",
              "      <td>False</td>\n",
              "      <td>False</td>\n",
              "      <td>True</td>\n",
              "      <td>False</td>\n",
              "      <td>False</td>\n",
              "      <td>False</td>\n",
              "      <td>False</td>\n",
              "      <td>False</td>\n",
              "      <td>False</td>\n",
              "      <td>False</td>\n",
              "      <td>False</td>\n",
              "    </tr>\n",
              "    <tr>\n",
              "      <th>1</th>\n",
              "      <td>35</td>\n",
              "      <td>2</td>\n",
              "      <td>4</td>\n",
              "      <td>1979</td>\n",
              "      <td>good</td>\n",
              "      <td>131.933333</td>\n",
              "      <td>True</td>\n",
              "      <td>True</td>\n",
              "      <td>False</td>\n",
              "      <td>False</td>\n",
              "      <td>False</td>\n",
              "      <td>False</td>\n",
              "      <td>False</td>\n",
              "      <td>False</td>\n",
              "      <td>False</td>\n",
              "      <td>False</td>\n",
              "      <td>True</td>\n",
              "      <td>False</td>\n",
              "      <td>False</td>\n",
              "    </tr>\n",
              "    <tr>\n",
              "      <th>2</th>\n",
              "      <td>20</td>\n",
              "      <td>2</td>\n",
              "      <td>3</td>\n",
              "      <td>1577</td>\n",
              "      <td>good</td>\n",
              "      <td>143.363636</td>\n",
              "      <td>False</td>\n",
              "      <td>True</td>\n",
              "      <td>False</td>\n",
              "      <td>False</td>\n",
              "      <td>True</td>\n",
              "      <td>False</td>\n",
              "      <td>False</td>\n",
              "      <td>False</td>\n",
              "      <td>False</td>\n",
              "      <td>True</td>\n",
              "      <td>False</td>\n",
              "      <td>False</td>\n",
              "      <td>False</td>\n",
              "    </tr>\n",
              "    <tr>\n",
              "      <th>3</th>\n",
              "      <td>24</td>\n",
              "      <td>1</td>\n",
              "      <td>0</td>\n",
              "      <td>626</td>\n",
              "      <td>bad</td>\n",
              "      <td>52.166667</td>\n",
              "      <td>False</td>\n",
              "      <td>True</td>\n",
              "      <td>False</td>\n",
              "      <td>True</td>\n",
              "      <td>False</td>\n",
              "      <td>False</td>\n",
              "      <td>False</td>\n",
              "      <td>False</td>\n",
              "      <td>False</td>\n",
              "      <td>False</td>\n",
              "      <td>True</td>\n",
              "      <td>False</td>\n",
              "      <td>False</td>\n",
              "    </tr>\n",
              "    <tr>\n",
              "      <th>4</th>\n",
              "      <td>55</td>\n",
              "      <td>2</td>\n",
              "      <td>0</td>\n",
              "      <td>6872</td>\n",
              "      <td>bad</td>\n",
              "      <td>286.333333</td>\n",
              "      <td>True</td>\n",
              "      <td>True</td>\n",
              "      <td>False</td>\n",
              "      <td>True</td>\n",
              "      <td>False</td>\n",
              "      <td>False</td>\n",
              "      <td>False</td>\n",
              "      <td>False</td>\n",
              "      <td>False</td>\n",
              "      <td>True</td>\n",
              "      <td>False</td>\n",
              "      <td>False</td>\n",
              "      <td>False</td>\n",
              "    </tr>\n",
              "  </tbody>\n",
              "</table>\n",
              "</div>"
            ],
            "text/plain": [
              "   Age  Job  Saving accounts  Credit amount  Risk  Monthly payment  Sex_male  \\\n",
              "0   28    2                4           1887  good       104.833333      True   \n",
              "1   35    2                4           1979  good       131.933333      True   \n",
              "2   20    2                3           1577  good       143.363636     False   \n",
              "3   24    1                0            626   bad        52.166667     False   \n",
              "4   55    2                0           6872   bad       286.333333      True   \n",
              "\n",
              "   Housing_own  Housing_rent  Checking account_little  \\\n",
              "0         True         False                    False   \n",
              "1         True         False                    False   \n",
              "2         True         False                    False   \n",
              "3         True         False                     True   \n",
              "4         True         False                     True   \n",
              "\n",
              "   Checking account_moderate  Checking account_rich  Purpose_car  \\\n",
              "0                       True                  False        False   \n",
              "1                      False                  False        False   \n",
              "2                       True                  False        False   \n",
              "3                      False                  False        False   \n",
              "4                      False                  False        False   \n",
              "\n",
              "   Purpose_domestic appliances  Purpose_education  \\\n",
              "0                        False              False   \n",
              "1                        False              False   \n",
              "2                        False              False   \n",
              "3                        False              False   \n",
              "4                        False              False   \n",
              "\n",
              "   Purpose_furniture/equipment  Purpose_radio/TV  Purpose_repairs  \\\n",
              "0                        False             False            False   \n",
              "1                        False              True            False   \n",
              "2                         True             False            False   \n",
              "3                        False              True            False   \n",
              "4                         True             False            False   \n",
              "\n",
              "   Purpose_vacation/others  \n",
              "0                    False  \n",
              "1                    False  \n",
              "2                    False  \n",
              "3                    False  \n",
              "4                    False  "
            ]
          },
          "execution_count": 9,
          "metadata": {},
          "output_type": "execute_result"
        }
      ],
      "source": [
        "categoric_vars_list = [\"Sex\", \"Job\", \"Housing\", \"Saving accounts\", \"Checking account\", \"Purpose\", \"Risk\"]\n",
        "numeric_vars_list = [\"Age\", \"Credit amount\"]\n",
        "\n",
        "df = data.copy()\n",
        "\n",
        "# Job과 Saving accounts는 Label Encoding\n",
        "le_job = LabelEncoder()\n",
        "df[\"Job\"] = le_job.fit_transform(df[\"Job\"])\n",
        "\n",
        "saving_order = [\"little\", \"moderate\", \"quite rich\", \"rich\", \"Unknown\"]\n",
        "saving_map = {val: idx for idx, val in enumerate(saving_order)}\n",
        "\n",
        "df[\"Saving accounts\"] = df[\"Saving accounts\"].map(saving_map)\n",
        "\n",
        "\n",
        "\n",
        "# checking_order = [\"little\", \"moderate\", \"Unknown\", \"rich\"]\n",
        "# checking_map = {val: idx for idx, val in enumerate(checking_order)}\n",
        "\n",
        "# df[\"Checking account\"] = df[\"Checking account\"].map(checking_map)\n",
        "\n",
        "\n",
        "\n",
        "# 나머지 범주형은 One-Hot Encoding (Risk 제외)\n",
        "categorical_for_ohe = [col for col in categoric_vars_list if col not in [\"Job\", \"Saving accounts\", \"Risk\"]]\n",
        "\n",
        "df = pd.get_dummies(df, columns=categorical_for_ohe, drop_first=True)\n",
        "\n",
        "df.head()\n"
      ]
    },
    {
      "cell_type": "code",
      "execution_count": 10,
      "metadata": {},
      "outputs": [
        {
          "data": {
            "text/plain": [
              "Age                            0\n",
              "Job                            0\n",
              "Saving accounts                0\n",
              "Credit amount                  0\n",
              "Risk                           0\n",
              "Monthly payment                0\n",
              "Sex_male                       0\n",
              "Housing_own                    0\n",
              "Housing_rent                   0\n",
              "Checking account_little        0\n",
              "Checking account_moderate      0\n",
              "Checking account_rich          0\n",
              "Purpose_car                    0\n",
              "Purpose_domestic appliances    0\n",
              "Purpose_education              0\n",
              "Purpose_furniture/equipment    0\n",
              "Purpose_radio/TV               0\n",
              "Purpose_repairs                0\n",
              "Purpose_vacation/others        0\n",
              "dtype: int64"
            ]
          },
          "execution_count": 10,
          "metadata": {},
          "output_type": "execute_result"
        }
      ],
      "source": [
        "df.isnull().sum()"
      ]
    },
    {
      "cell_type": "code",
      "execution_count": 11,
      "metadata": {
        "colab": {
          "base_uri": "https://localhost:8080/",
          "height": 300
        },
        "id": "YuGt4kuI4iHD",
        "outputId": "b09ddcf4-4a7a-4c97-84c6-f7debf02f6b7"
      },
      "outputs": [
        {
          "data": {
            "text/html": [
              "<div>\n",
              "<style scoped>\n",
              "    .dataframe tbody tr th:only-of-type {\n",
              "        vertical-align: middle;\n",
              "    }\n",
              "\n",
              "    .dataframe tbody tr th {\n",
              "        vertical-align: top;\n",
              "    }\n",
              "\n",
              "    .dataframe thead th {\n",
              "        text-align: right;\n",
              "    }\n",
              "</style>\n",
              "<table border=\"1\" class=\"dataframe\">\n",
              "  <thead>\n",
              "    <tr style=\"text-align: right;\">\n",
              "      <th></th>\n",
              "      <th>Age</th>\n",
              "      <th>Job</th>\n",
              "      <th>Saving accounts</th>\n",
              "      <th>Credit amount</th>\n",
              "      <th>Monthly payment</th>\n",
              "    </tr>\n",
              "  </thead>\n",
              "  <tbody>\n",
              "    <tr>\n",
              "      <th>count</th>\n",
              "      <td>800.000000</td>\n",
              "      <td>800.000000</td>\n",
              "      <td>800.000000</td>\n",
              "      <td>800.000000</td>\n",
              "      <td>800.000000</td>\n",
              "    </tr>\n",
              "    <tr>\n",
              "      <th>mean</th>\n",
              "      <td>35.385000</td>\n",
              "      <td>1.895000</td>\n",
              "      <td>1.110000</td>\n",
              "      <td>3311.067500</td>\n",
              "      <td>169.478822</td>\n",
              "    </tr>\n",
              "    <tr>\n",
              "      <th>std</th>\n",
              "      <td>11.487242</td>\n",
              "      <td>0.651541</td>\n",
              "      <td>1.572734</td>\n",
              "      <td>2818.209049</td>\n",
              "      <td>161.022087</td>\n",
              "    </tr>\n",
              "    <tr>\n",
              "      <th>min</th>\n",
              "      <td>19.000000</td>\n",
              "      <td>0.000000</td>\n",
              "      <td>0.000000</td>\n",
              "      <td>338.000000</td>\n",
              "      <td>24.055556</td>\n",
              "    </tr>\n",
              "    <tr>\n",
              "      <th>25%</th>\n",
              "      <td>26.750000</td>\n",
              "      <td>2.000000</td>\n",
              "      <td>0.000000</td>\n",
              "      <td>1385.000000</td>\n",
              "      <td>91.500000</td>\n",
              "    </tr>\n",
              "    <tr>\n",
              "      <th>50%</th>\n",
              "      <td>33.000000</td>\n",
              "      <td>2.000000</td>\n",
              "      <td>0.000000</td>\n",
              "      <td>2349.500000</td>\n",
              "      <td>131.828869</td>\n",
              "    </tr>\n",
              "    <tr>\n",
              "      <th>75%</th>\n",
              "      <td>41.000000</td>\n",
              "      <td>2.000000</td>\n",
              "      <td>2.000000</td>\n",
              "      <td>4070.250000</td>\n",
              "      <td>208.125000</td>\n",
              "    </tr>\n",
              "    <tr>\n",
              "      <th>max</th>\n",
              "      <td>75.000000</td>\n",
              "      <td>3.000000</td>\n",
              "      <td>4.000000</td>\n",
              "      <td>18424.000000</td>\n",
              "      <td>2482.666667</td>\n",
              "    </tr>\n",
              "  </tbody>\n",
              "</table>\n",
              "</div>"
            ],
            "text/plain": [
              "              Age         Job  Saving accounts  Credit amount  Monthly payment\n",
              "count  800.000000  800.000000       800.000000     800.000000       800.000000\n",
              "mean    35.385000    1.895000         1.110000    3311.067500       169.478822\n",
              "std     11.487242    0.651541         1.572734    2818.209049       161.022087\n",
              "min     19.000000    0.000000         0.000000     338.000000        24.055556\n",
              "25%     26.750000    2.000000         0.000000    1385.000000        91.500000\n",
              "50%     33.000000    2.000000         0.000000    2349.500000       131.828869\n",
              "75%     41.000000    2.000000         2.000000    4070.250000       208.125000\n",
              "max     75.000000    3.000000         4.000000   18424.000000      2482.666667"
            ]
          },
          "execution_count": 11,
          "metadata": {},
          "output_type": "execute_result"
        }
      ],
      "source": [
        "data_numeric = df.loc[:, numeric_vars_list]\n",
        "df.describe()"
      ]
    },
    {
      "cell_type": "markdown",
      "metadata": {
        "id": "A4sBWKcUz96G"
      },
      "source": [
        "## 데이터 분할 비율"
      ]
    },
    {
      "cell_type": "markdown",
      "metadata": {
        "id": "pj3dOvZa0Gip"
      },
      "source": [
        "## Duration robust 스케일링"
      ]
    },
    {
      "cell_type": "code",
      "execution_count": 12,
      "metadata": {
        "id": "LR5nnGOf4iHD"
      },
      "outputs": [],
      "source": [
        "# 타겟 변수 생성\n",
        "y = (df[\"Risk\"] == \"good\").astype(int)\n",
        "X = df.drop([\"Risk\"], axis=1)\n",
        "\n",
        "# 데이터 분할 비율 8:2 버전\n",
        "X_train, X_test, y_train, y_test = train_test_split(\n",
        "    X, y, test_size=0.3, stratify=y, random_state=42\n",
        ")\n",
        "\n",
        "# 스케일링 함수\n",
        "# 현재 duration을 robust scaling으로 처리한 버전\n",
        "\n",
        "def scale_numeric(X_train, X_test):\n",
        "    scaler_age = StandardScaler()\n",
        "    scaler_duration = RobustScaler()\n",
        "    scaler_credit = StandardScaler()\n",
        "\n",
        "    # Age → StandardScaler\n",
        "    scaler_age.fit(X_train[[\"Age\"]])\n",
        "    X_train.loc[:, [\"Age\"]] = scaler_age.transform(X_train[[\"Age\"]])\n",
        "    X_test.loc[:, [\"Age\"]] = scaler_age.transform(X_test[[\"Age\"]])\n",
        "\n",
        "    # # Duration → RobustScaler\n",
        "    # scaler_duration.fit(X_train[[\"Duration\"]])\n",
        "    # X_train.loc[:, [\"Duration\"]] = scaler_duration.transform(X_train[[\"Duration\"]])\n",
        "    # X_test.loc[:, [\"Duration\"]] = scaler_duration.transform(X_test[[\"Duration\"]])\n",
        "\n",
        "    # Credit amount → 로그 변환 + StandardScaler\n",
        "    X_train_credit_log = np.log1p(X_train[\"Credit amount\"])\n",
        "    X_test_credit_log = np.log1p(X_test[\"Credit amount\"])\n",
        "\n",
        "    scaler_credit.fit(X_train_credit_log.values.reshape(-1, 1))\n",
        "    X_train.loc[:, [\"Credit amount\"]] = scaler_credit.transform(X_train_credit_log.values.reshape(-1, 1))\n",
        "    X_test.loc[:, [\"Credit amount\"]] = scaler_credit.transform(X_test_credit_log.values.reshape(-1, 1))\n",
        "\n",
        "    # Monthly payment → StandardScaler\n",
        "    if \"Monthly payment\" in X_train.columns:\n",
        "        scaler_monthly = StandardScaler()\n",
        "        scaler_monthly.fit(X_train[[\"Monthly payment\"]])\n",
        "        X_train.loc[:, [\"Monthly payment\"]] = scaler_monthly.transform(X_train[[\"Monthly payment\"]])\n",
        "        X_test.loc[:, [\"Monthly payment\"]] = scaler_monthly.transform(X_test[[\"Monthly payment\"]])\n",
        "\n",
        "    return X_train, X_test\n",
        "\n",
        "\n",
        "\n",
        "# 스케일링 적용\n",
        "X_train, X_test = scale_numeric(X_train.copy(), X_test.copy())\n"
      ]
    },
    {
      "cell_type": "markdown",
      "metadata": {
        "id": "i-j0Ft2R4iHE"
      },
      "source": [
        "-------------------------------------------\n",
        "\n",
        "여기부터 모델\n",
        "\n",
        "-------------------------------------------"
      ]
    },
    {
      "cell_type": "markdown",
      "metadata": {
        "id": "f6-7ybU64iHE"
      },
      "source": [
        "로지스틱 회귀"
      ]
    },
    {
      "cell_type": "code",
      "execution_count": 13,
      "metadata": {
        "colab": {
          "base_uri": "https://localhost:8080/"
        },
        "id": "JWZX2iPa4iHF",
        "outputId": "ba7c1bf4-9cd4-4fe3-ea90-8bcabf0883fd"
      },
      "outputs": [
        {
          "name": "stdout",
          "output_type": "stream",
          "text": [
            "Fitting 5 folds for each of 36 candidates, totalling 180 fits\n",
            "Best params (by F1): {'C': 0.2, 'class_weight': None, 'penalty': 'l2'}\n",
            "Best threshold (train, by F1): 0.5165665804804357\n",
            "Logistic Regression (F1-refit + tuned threshold) Results\n",
            "Accuracy: 0.738\n",
            "Recall:   0.940\n",
            "F1 Score: 0.834\n",
            "\n"
          ]
        }
      ],
      "source": [
        "from sklearn.linear_model import LogisticRegression\n",
        "from sklearn.model_selection import GridSearchCV, StratifiedKFold, cross_val_predict\n",
        "from sklearn.metrics import make_scorer, f1_score, recall_score, precision_recall_curve, accuracy_score, confusion_matrix\n",
        "import numpy as np\n",
        "\n",
        "log_reg = LogisticRegression(solver=\"liblinear\", random_state=42, max_iter=200)\n",
        "\n",
        "param_grid = {\n",
        "    \"C\": [0.01, 0.05, 0.07, 0.1, 0.12, 0.15, 0.2, 1, 3],  # 범위 확장\n",
        "    \"penalty\": [\"l1\", \"l2\"],\n",
        "    \"class_weight\": [None, \"balanced\"],\n",
        "}\n",
        "\n",
        "scoring = {\n",
        "    \"roc_auc\": \"roc_auc\",\n",
        "    \"f1\": make_scorer(f1_score),\n",
        "    \"recall\": make_scorer(recall_score),\n",
        "}\n",
        "\n",
        "cv = StratifiedKFold(n_splits=5, shuffle=True, random_state=42)\n",
        "\n",
        "grid_search = GridSearchCV(\n",
        "    estimator=log_reg,\n",
        "    param_grid=param_grid,\n",
        "    scoring=scoring,\n",
        "    refit=\"f1\",        # 최종 모델 선택 기준: F1\n",
        "    cv=cv,\n",
        "    verbose=1,\n",
        "    n_jobs=-1\n",
        ")\n",
        "grid_search.fit(X_train, y_train)\n",
        "\n",
        "print(\"Best params (by F1):\", grid_search.best_params_)\n",
        "best_model = grid_search.best_estimator_\n",
        "\n",
        "# -------------------------\n",
        "# 임계값 튜닝\n",
        "# -------------------------\n",
        "oof_probs = cross_val_predict(best_model, X_train, y_train, cv=cv, method=\"predict_proba\")[:, 1]\n",
        "p, r, th = precision_recall_curve(y_train, oof_probs)\n",
        "f1s = 2 * p[:-1] * r[:-1] / (p[:-1] + r[:-1] + 1e-12)\n",
        "best_th = th[np.argmax(f1s)]\n",
        "print(\"Best threshold (train, by F1):\", best_th)\n",
        "\n",
        "# -------------------------\n",
        "# 평가 (임계값 적용)\n",
        "# -------------------------\n",
        "y_pred_prob = best_model.predict_proba(X_test)[:, 1]\n",
        "y_pred_log = (y_pred_prob >= best_th).astype(int)\n",
        "\n",
        "print(\"Logistic Regression (F1-refit + tuned threshold) Results\")\n",
        "print(f\"Accuracy: {accuracy_score(y_test, y_pred_log):.3f}\")\n",
        "print(f\"Recall:   {recall_score(y_test, y_pred_log):.3f}\")\n",
        "print(f\"F1 Score: {f1_score(y_test, y_pred_log):.3f}\\n\")"
      ]
    },
    {
      "cell_type": "markdown",
      "metadata": {
        "id": "AKuAN6_E4iHF"
      },
      "source": [
        "결정트리"
      ]
    },
    {
      "cell_type": "code",
      "execution_count": 14,
      "metadata": {
        "colab": {
          "base_uri": "https://localhost:8080/"
        },
        "id": "3LxlFhDj4iHF",
        "outputId": "8bb1e85a-e586-4593-96c8-6d76fcdbff66"
      },
      "outputs": [
        {
          "name": "stdout",
          "output_type": "stream",
          "text": [
            "Fitting 5 folds for each of 192 candidates, totalling 960 fits\n",
            "Best params (by F1): {'class_weight': None, 'criterion': 'entropy', 'max_depth': 4, 'min_samples_leaf': 3, 'min_samples_split': 2}\n",
            "Best threshold (train, by F1): 0.25\n",
            "Decision Tree Results (threshold tuned)\n",
            "Accuracy: 0.758\n",
            "Recall:   0.970\n",
            "F1 Score: 0.849\n",
            "\n"
          ]
        }
      ],
      "source": [
        "from sklearn.tree import DecisionTreeClassifier\n",
        "from sklearn.model_selection import GridSearchCV, StratifiedKFold, cross_val_predict\n",
        "from sklearn.metrics import make_scorer, f1_score, recall_score, accuracy_score, confusion_matrix, precision_recall_curve\n",
        "import numpy as np\n",
        "\n",
        "dt = DecisionTreeClassifier(random_state=42)\n",
        "\n",
        "param_grid = {\n",
        "    \"criterion\": [\"gini\", \"entropy\"],\n",
        "    \"max_depth\": [3, 4, 5, 6],\n",
        "    \"min_samples_split\": [2, 3, 4, 5],\n",
        "    \"min_samples_leaf\": [1, 2, 3],\n",
        "    \"class_weight\": [None, \"balanced\"],\n",
        "}\n",
        "\n",
        "scoring = {\n",
        "    \"roc_auc\": \"roc_auc\",\n",
        "    \"f1\": make_scorer(f1_score),\n",
        "    \"recall\": make_scorer(recall_score),\n",
        "}\n",
        "\n",
        "cv = StratifiedKFold(n_splits=5, shuffle=True, random_state=42)\n",
        "\n",
        "grid_search_dt = GridSearchCV(\n",
        "    estimator=dt,\n",
        "    param_grid=param_grid,\n",
        "    scoring=scoring,\n",
        "    refit=\"f1\",      # F1 기준으로 최종 모델 선택\n",
        "    cv=cv,\n",
        "    verbose=1,\n",
        "    n_jobs=-1,\n",
        ")\n",
        "grid_search_dt.fit(X_train, y_train)\n",
        "\n",
        "print(\"Best params (by F1):\", grid_search_dt.best_params_)\n",
        "best_dt = grid_search_dt.best_estimator_\n",
        "\n",
        "# -------------------------\n",
        "# threshold 튜닝 (train OOF 기반)\n",
        "# -------------------------\n",
        "oof_probs = cross_val_predict(best_dt, X_train, y_train, cv=cv, method=\"predict_proba\")[:, 1]\n",
        "p, r, th = precision_recall_curve(y_train, oof_probs)\n",
        "f1s = 2 * p[:-1] * r[:-1] / (p[:-1] + r[:-1] + 1e-12)\n",
        "best_th = th[np.argmax(f1s)]\n",
        "print(\"Best threshold (train, by F1):\", best_th)\n",
        "\n",
        "# -------------------------\n",
        "# 평가 (튜닝된 threshold 적용)\n",
        "# -------------------------\n",
        "y_pred_prob_dt = best_dt.predict_proba(X_test)[:, 1]\n",
        "y_pred_dt = (y_pred_prob_dt >= best_th).astype(int)\n",
        "\n",
        "\n",
        "accuracy = accuracy_score(y_test, y_pred_dt)\n",
        "recall   = recall_score(y_test, y_pred_dt)\n",
        "f1       = f1_score(y_test, y_pred_dt)\n",
        "\n",
        "print(\"Decision Tree Results (threshold tuned)\")\n",
        "print(f\"Accuracy: {accuracy:.3f}\")\n",
        "print(f\"Recall:   {recall:.3f}\")\n",
        "print(f\"F1 Score: {f1:.3f}\\n\")\n",
        "\n"
      ]
    },
    {
      "cell_type": "markdown",
      "metadata": {
        "id": "Ud_YmWU44iHG"
      },
      "source": [
        "랜덤포레스트"
      ]
    },
    {
      "cell_type": "code",
      "execution_count": 15,
      "metadata": {
        "colab": {
          "base_uri": "https://localhost:8080/"
        },
        "id": "n3lcD-jB4iHG",
        "outputId": "c9df7829-ff75-4bd1-e0ee-e35dc7d82206"
      },
      "outputs": [
        {
          "name": "stdout",
          "output_type": "stream",
          "text": [
            "Fitting 5 folds for each of 144 candidates, totalling 720 fits\n",
            "Best hyperparams: {'max_depth': 6, 'min_samples_leaf': 4, 'min_samples_split': 9, 'n_estimators': 32}\n",
            "Best threshold (train, by F1): 0.543868\n",
            "Random Forest Results (threshold-optimized)\n",
            "Accuracy: 0.792\n",
            "Recall:   0.958\n",
            "F1 Score: 0.866\n",
            "\n"
          ]
        }
      ],
      "source": [
        "from sklearn.ensemble import RandomForestClassifier\n",
        "from sklearn.model_selection import GridSearchCV, StratifiedKFold, cross_val_predict\n",
        "from sklearn.metrics import accuracy_score, recall_score, f1_score, confusion_matrix, precision_recall_curve\n",
        "import numpy as np\n",
        "\n",
        "rf = RandomForestClassifier(random_state=42)\n",
        "\n",
        "param_grid = {\n",
        "    'n_estimators': [31, 32, 33, 34],\n",
        "    'max_depth': [6, 7, 8],\n",
        "    'min_samples_split': [6, 7, 8, 9],\n",
        "    'min_samples_leaf': [4, 5, 6]\n",
        "}\n",
        "\n",
        "cv = StratifiedKFold(n_splits=5, shuffle=True, random_state=42)\n",
        "\n",
        "grid_search_rf = GridSearchCV(\n",
        "    estimator=rf,\n",
        "    param_grid=param_grid,\n",
        "    scoring='f1',\n",
        "    cv=cv,\n",
        "    verbose=1,\n",
        "    n_jobs=-1\n",
        ")\n",
        "grid_search_rf.fit(X_train, y_train)\n",
        "\n",
        "print(\"Best hyperparams:\", grid_search_rf.best_params_)\n",
        "\n",
        "best_rf = grid_search_rf.best_estimator_\n",
        "\n",
        "oof_probs = cross_val_predict(best_rf, X_train, y_train, cv=cv, method=\"predict_proba\")[:, 1]\n",
        "p, r, th = precision_recall_curve(y_train, oof_probs)\n",
        "f1s = 2 * p[:-1] * r[:-1] / (p[:-1] + r[:-1] + 1e-12)\n",
        "best_th = th[np.argmax(f1s)]\n",
        "print(f\"Best threshold (train, by F1): {best_th:.6f}\")\n",
        "\n",
        "best_rf.fit(X_train, y_train)\n",
        "y_pred_prob_rf = best_rf.predict_proba(X_test)[:, 1]\n",
        "y_pred_rf = (y_pred_prob_rf >= best_th).astype(int)\n",
        "\n",
        "\n",
        "accuracy = accuracy_score(y_test, y_pred_rf)\n",
        "recall   = recall_score(y_test, y_pred_rf)\n",
        "f1       = f1_score(y_test, y_pred_rf)\n",
        "\n",
        "print(\"Random Forest Results (threshold-optimized)\")\n",
        "print(f\"Accuracy: {accuracy:.3f}\")\n",
        "print(f\"Recall:   {recall:.3f}\")\n",
        "print(f\"F1 Score: {f1:.3f}\\n\")\n"
      ]
    },
    {
      "cell_type": "markdown",
      "metadata": {
        "id": "40SuVSoB4iHG"
      },
      "source": [
        "서포트 벡터 머신"
      ]
    },
    {
      "cell_type": "code",
      "execution_count": 16,
      "metadata": {
        "colab": {
          "base_uri": "https://localhost:8080/"
        },
        "id": "q3Ynn4pS4iHG",
        "outputId": "a2572dea-02d2-4f6b-87ce-4aa8300b4a17"
      },
      "outputs": [
        {
          "name": "stdout",
          "output_type": "stream",
          "text": [
            "Fitting 5 folds for each of 12 candidates, totalling 60 fits\n",
            "Best hyperparams: {'C': 1, 'gamma': 'auto', 'kernel': 'rbf'}\n",
            "Best threshold (train, by F1): 0.433955\n",
            "Support Vector Machine Results (threshold-optimized)\n",
            "Accuracy: 0.767\n",
            "Recall:   0.988\n",
            "F1 Score: 0.856\n",
            "\n"
          ]
        }
      ],
      "source": [
        "from sklearn.svm import SVC\n",
        "from sklearn.model_selection import GridSearchCV, StratifiedKFold, cross_val_predict\n",
        "from sklearn.metrics import accuracy_score, recall_score, f1_score, confusion_matrix, precision_recall_curve\n",
        "import numpy as np\n",
        "\n",
        "svm = SVC(probability=True, random_state=42)\n",
        "param_grid = {\n",
        "    'C': [0.1, 1, 10],\n",
        "    'kernel': ['linear', 'rbf'],\n",
        "    'gamma': ['scale', 'auto']\n",
        "}\n",
        "\n",
        "cv = StratifiedKFold(n_splits=5, shuffle=True, random_state=42)\n",
        "\n",
        "grid_search_svm = GridSearchCV(\n",
        "    estimator=svm,\n",
        "    param_grid=param_grid,\n",
        "    scoring='f1',\n",
        "    cv=cv,\n",
        "    verbose=1,\n",
        "    n_jobs=-1\n",
        ")\n",
        "grid_search_svm.fit(X_train, y_train)\n",
        "print(\"Best hyperparams:\", grid_search_svm.best_params_)\n",
        "\n",
        "best_svm = grid_search_svm.best_estimator_\n",
        "\n",
        "oof_probs = cross_val_predict(best_svm, X_train, y_train, cv=cv, method=\"predict_proba\")[:, 1]\n",
        "p, r, th = precision_recall_curve(y_train, oof_probs)\n",
        "f1s = 2 * p[:-1] * r[:-1] / (p[:-1] + r[:-1] + 1e-12)\n",
        "best_th = th[np.argmax(f1s)]\n",
        "print(f\"Best threshold (train, by F1): {best_th:.6f}\")\n",
        "\n",
        "best_svm.fit(X_train, y_train)\n",
        "y_pred_prob_svm = best_svm.predict_proba(X_test)[:, 1]\n",
        "y_pred_svm = (y_pred_prob_svm >= best_th).astype(int)\n",
        "\n",
        "accuracy = accuracy_score(y_test, y_pred_svm)\n",
        "recall   = recall_score(y_test, y_pred_svm)\n",
        "f1       = f1_score(y_test, y_pred_svm)\n",
        "\n",
        "print(\"Support Vector Machine Results (threshold-optimized)\")\n",
        "print(f\"Accuracy: {accuracy:.3f}\")\n",
        "print(f\"Recall:   {recall:.3f}\")\n",
        "print(f\"F1 Score: {f1:.3f}\\n\")\n"
      ]
    },
    {
      "cell_type": "markdown",
      "metadata": {
        "id": "uPXSQvBd4iHH"
      },
      "source": [
        "K 근접 이웃 KNN"
      ]
    },
    {
      "cell_type": "code",
      "execution_count": 17,
      "metadata": {
        "colab": {
          "base_uri": "https://localhost:8080/"
        },
        "id": "k6wyWka74iHH",
        "outputId": "54424397-d1a9-4d7d-e7ef-4184e6f2ecb7"
      },
      "outputs": [
        {
          "name": "stdout",
          "output_type": "stream",
          "text": [
            "Fitting 5 folds for each of 32 candidates, totalling 160 fits\n",
            "Best hyperparams (KNN): {'metric': 'euclidean', 'n_neighbors': 13, 'weights': 'uniform'}\n",
            "Best threshold (train, by F1, KNN): 0.538462\n",
            "K-Nearest Neighbors Results (threshold-optimized)\n",
            "Accuracy: 0.750\n",
            "Recall:   0.964\n",
            "F1_plain Score: 0.844\n",
            "\n",
            "Fitting 5 folds for each of 108 candidates, totalling 540 fits\n",
            "Best Hyperparameters (Pipeline+KNN): {'feature_union__pca__n_components': 3, 'feature_union__select_best__k': 8, 'knn__metric': 'manhattan', 'knn__n_neighbors': 7, 'knn__weights': 'uniform'}\n",
            "Best threshold (train, by F1, Pipeline): 0.285714\n",
            "K-Nearest Neighbors (Pipeline) Results (threshold-optimized)\n",
            "Accuracy: 0.729\n",
            "Recall:   1.000\n",
            "F1_pipe Score: 0.838\n",
            "\n"
          ]
        }
      ],
      "source": [
        "from sklearn.neighbors import KNeighborsClassifier\n",
        "from sklearn.decomposition import PCA\n",
        "from sklearn.feature_selection import SelectKBest\n",
        "from sklearn.pipeline import Pipeline, FeatureUnion\n",
        "from sklearn.model_selection import GridSearchCV, StratifiedKFold, cross_val_predict\n",
        "from sklearn.metrics import accuracy_score, recall_score, f1_score, confusion_matrix, precision_recall_curve\n",
        "import numpy as np\n",
        "\n",
        "# =========================\n",
        "# (A) Plain KNN (F1 + 임계치)\n",
        "# =========================\n",
        "knn = KNeighborsClassifier()\n",
        "param_grid = {\n",
        "    'n_neighbors': [3, 5, 7, 9, 10, 11, 12, 13],\n",
        "    'weights': ['uniform', 'distance'],\n",
        "    'metric': ['euclidean', 'manhattan']\n",
        "}\n",
        "\n",
        "cv = StratifiedKFold(n_splits=5, shuffle=True, random_state=42)\n",
        "\n",
        "grid_search_knn = GridSearchCV(\n",
        "    estimator=knn,\n",
        "    param_grid=param_grid,\n",
        "    scoring='f1',\n",
        "    cv=cv,\n",
        "    verbose=1,\n",
        "    n_jobs=-1\n",
        ")\n",
        "grid_search_knn.fit(X_train, y_train)\n",
        "print(\"Best hyperparams (KNN):\", grid_search_knn.best_params_)\n",
        "\n",
        "best_knn = grid_search_knn.best_estimator_\n",
        "\n",
        "# OOF 확률로 임계치(F1 최대) 탐색\n",
        "oof_probs_knn = cross_val_predict(best_knn, X_train, y_train, cv=cv, method=\"predict_proba\")[:, 1]\n",
        "p, r, th = precision_recall_curve(y_train, oof_probs_knn)\n",
        "f1s = 2 * p[:-1] * r[:-1] / (p[:-1] + r[:-1] + 1e-12)\n",
        "best_th_knn = th[np.argmax(f1s)]\n",
        "print(f\"Best threshold (train, by F1, KNN): {best_th_knn:.6f}\")\n",
        "\n",
        "# 학습+평가\n",
        "best_knn.fit(X_train, y_train)\n",
        "y_pred_prob_knn = best_knn.predict_proba(X_test)[:, 1]\n",
        "y_pred_knn = (y_pred_prob_knn >= best_th_knn).astype(int)\n",
        "\n",
        "accuracy = accuracy_score(y_test, y_pred_knn)\n",
        "recall   = recall_score(y_test, y_pred_knn)\n",
        "f1_plain  = f1_score(y_test, y_pred_knn)\n",
        "\n",
        "print(\"K-Nearest Neighbors Results (threshold-optimized)\")\n",
        "print(f\"Accuracy: {accuracy:.3f}\")\n",
        "print(f\"Recall:   {recall:.3f}\")\n",
        "print(f\"F1_plain Score: {f1_plain:.3f}\\n\")\n",
        "\n",
        "# ==========================================\n",
        "# (B) Pipeline: PCA + SelectKBest + KNN (F1)\n",
        "# ==========================================\n",
        "features = []\n",
        "features.append(('pca', PCA(n_components=4)))\n",
        "features.append(('select_best', SelectKBest(k=6)))\n",
        "feature_union = FeatureUnion(features)\n",
        "\n",
        "model = Pipeline([\n",
        "    ('feature_union', feature_union),\n",
        "    ('knn', KNeighborsClassifier())\n",
        "])\n",
        "\n",
        "param_grid_pipeline = {\n",
        "    'feature_union__pca__n_components': [2, 3, 4],\n",
        "    'feature_union__select_best__k': [4, 6, 8],\n",
        "    'knn__n_neighbors': [3, 5, 7],\n",
        "    'knn__weights': ['uniform', 'distance'],\n",
        "    'knn__metric': ['euclidean', 'manhattan']\n",
        "}\n",
        "\n",
        "grid_search_pipeline = GridSearchCV(\n",
        "    estimator=model,\n",
        "    param_grid=param_grid_pipeline,\n",
        "    cv=cv,\n",
        "    scoring='f1',\n",
        "    verbose=1,\n",
        "    n_jobs=-1\n",
        ")\n",
        "grid_search_pipeline.fit(X_train, y_train)\n",
        "print(\"Best Hyperparameters (Pipeline+KNN):\", grid_search_pipeline.best_params_)\n",
        "\n",
        "best_model = grid_search_pipeline.best_estimator_\n",
        "\n",
        "# OOF 확률로 임계치(F1 최대) 탐색\n",
        "oof_probs_pipe = cross_val_predict(best_model, X_train, y_train, cv=cv, method=\"predict_proba\")[:, 1]\n",
        "p2, r2, th2 = precision_recall_curve(y_train, oof_probs_pipe)\n",
        "f1s2 = 2 * p2[:-1] * r2[:-1] / (p2[:-1] + r2[:-1] + 1e-12)\n",
        "best_th_pipe = th2[np.argmax(f1s2)]\n",
        "print(f\"Best threshold (train, by F1, Pipeline): {best_th_pipe:.6f}\")\n",
        "\n",
        "# 학습+평가\n",
        "best_model.fit(X_train, y_train)\n",
        "y_pred_prob = best_model.predict_proba(X_test)[:, 1]\n",
        "y_pred = (y_pred_prob >= best_th_pipe).astype(int)\n",
        "\n",
        "accuracy = accuracy_score(y_test, y_pred)\n",
        "recall   = recall_score(y_test, y_pred)\n",
        "f1_pipe  = f1_score(y_test, y_pred)\n",
        "\n",
        "print(\"K-Nearest Neighbors (Pipeline) Results (threshold-optimized)\")\n",
        "print(f\"Accuracy: {accuracy:.3f}\")\n",
        "print(f\"Recall:   {recall:.3f}\")\n",
        "print(f\"F1_pipe Score: {f1_pipe:.3f}\\n\")\n",
        "\n"
      ]
    },
    {
      "cell_type": "markdown",
      "metadata": {
        "id": "MXpWKCF74iHH"
      },
      "source": [
        "xgboost"
      ]
    },
    {
      "cell_type": "code",
      "execution_count": 18,
      "metadata": {
        "colab": {
          "base_uri": "https://localhost:8080/"
        },
        "id": "2dLzcRbS4iHH",
        "outputId": "a7d5d4f8-c87b-4be3-b861-a4e0f5108def"
      },
      "outputs": [
        {
          "name": "stdout",
          "output_type": "stream",
          "text": [
            "Fitting 5 folds for each of 36 candidates, totalling 180 fits\n",
            "Best hyperparams: {'learning_rate': 0.01, 'max_depth': 5, 'n_estimators': 100}\n",
            "Best threshold (train, by F1): 0.511748\n",
            "XGBoost Results (threshold-optimized)\n",
            "Accuracy: 0.746\n",
            "Recall:   0.958\n",
            "F1 Score: 0.841\n",
            "\n",
            "Confusion Matrix:\n",
            "[[ 18  54]\n",
            " [  7 161]]\n"
          ]
        }
      ],
      "source": [
        "from xgboost import XGBClassifier\n",
        "from sklearn.model_selection import GridSearchCV, StratifiedKFold, cross_val_predict\n",
        "from sklearn.metrics import accuracy_score, recall_score, f1_score, confusion_matrix, precision_recall_curve\n",
        "import numpy as np\n",
        "\n",
        "xgb = XGBClassifier(\n",
        "    objective=\"binary:logistic\",\n",
        "    eval_metric=\"auc\",\n",
        "    random_state=42,\n",
        "    use_label_encoder=False\n",
        ")\n",
        "\n",
        "param_grid = {\n",
        "    'n_estimators': [30, 50, 100, 200],\n",
        "    'learning_rate': [0.01, 0.1, 0.2],\n",
        "    'max_depth': [3, 5, 7]\n",
        "}\n",
        "\n",
        "cv = StratifiedKFold(n_splits=5, shuffle=True, random_state=42)\n",
        "\n",
        "grid_search_xgb = GridSearchCV(\n",
        "    estimator=xgb,\n",
        "    param_grid=param_grid,\n",
        "    scoring='f1',\n",
        "    cv=cv,\n",
        "    verbose=1,\n",
        "    n_jobs=-1\n",
        ")\n",
        "grid_search_xgb.fit(X_train, y_train)\n",
        "print(\"Best hyperparams:\", grid_search_xgb.best_params_)\n",
        "\n",
        "best_xgb = grid_search_xgb.best_estimator_\n",
        "\n",
        "oof_probs = cross_val_predict(best_xgb, X_train, y_train, cv=cv, method=\"predict_proba\")[:, 1]\n",
        "p, r, th = precision_recall_curve(y_train, oof_probs)\n",
        "f1s = 2 * p[:-1] * r[:-1] / (p[:-1] + r[:-1] + 1e-12)\n",
        "best_th = th[np.argmax(f1s)]\n",
        "print(f\"Best threshold (train, by F1): {best_th:.6f}\")\n",
        "\n",
        "best_xgb.fit(X_train, y_train)\n",
        "y_pred_prob_xgb = best_xgb.predict_proba(X_test)[:, 1]\n",
        "y_pred_xgb = (y_pred_prob_xgb >= best_th).astype(int)\n",
        "\n",
        "accuracy = accuracy_score(y_test, y_pred_xgb)\n",
        "recall   = recall_score(y_test, y_pred_xgb)\n",
        "f1       = f1_score(y_test, y_pred_xgb)\n",
        "\n",
        "print(\"XGBoost Results (threshold-optimized)\")\n",
        "print(f\"Accuracy: {accuracy:.3f}\")\n",
        "print(f\"Recall:   {recall:.3f}\")\n",
        "print(f\"F1 Score: {f1:.3f}\\n\")\n",
        "print(\"Confusion Matrix:\")\n",
        "print(confusion_matrix(y_test, y_pred_xgb))\n"
      ]
    },
    {
      "cell_type": "code",
      "execution_count": 19,
      "metadata": {
        "colab": {
          "base_uri": "https://localhost:8080/"
        },
        "id": "_Cb5wVuF4iHH",
        "outputId": "16971a8a-2a01-40de-f1b9-433fbcb65bbd"
      },
      "outputs": [
        {
          "name": "stdout",
          "output_type": "stream",
          "text": [
            "Logistic Regression : F1 Score = 0.834\n",
            "Decision Tree       : F1 Score = 0.849\n",
            "Random Forest       : F1 Score = 0.866\n",
            "SVM                 : F1 Score = 0.856\n",
            "KNN                 : F1 Score = 0.844\n",
            "XGBoost             : F1 Score = 0.841\n"
          ]
        }
      ],
      "source": [
        "results = {}\n",
        "\n",
        "# Logistic Regression\n",
        "results[\"Logistic Regression\"] = f1_score(y_test, y_pred_log)\n",
        "\n",
        "# Decision Tree\n",
        "results[\"Decision Tree\"] = f1_score(y_test, y_pred_dt)\n",
        "\n",
        "# Random Forest\n",
        "results[\"Random Forest\"] = f1_score(y_test, y_pred_rf)\n",
        "\n",
        "# SVM\n",
        "results[\"SVM\"] = f1_score(y_test, y_pred_svm)\n",
        "\n",
        "# KNN\n",
        "results[\"KNN\"] = max(f1_plain, f1_pipe)\n",
        "\n",
        "# XGBoost\n",
        "results[\"XGBoost\"] = f1_score(y_test, y_pred_xgb)\n",
        "\n",
        "\n",
        "\n",
        "# 결과 정리\n",
        "for model, f1 in results.items():\n",
        "    print(f\"{model:20s}: F1 Score = {f1:.3f}\")\n"
      ]
    },
    {
      "cell_type": "code",
      "execution_count": 20,
      "metadata": {},
      "outputs": [
        {
          "data": {
            "text/plain": [
              "['model.pkl']"
            ]
          },
          "execution_count": 20,
          "metadata": {},
          "output_type": "execute_result"
        }
      ],
      "source": [
        "# train.py 같은 파일\n",
        "import joblib\n",
        "from sklearn.model_selection import train_test_split\n",
        "from sklearn.ensemble import RandomForestClassifier\n",
        "\n",
        "model = RandomForestClassifier()\n",
        "model.fit(X_train, y_train)\n",
        "\n",
        "# 학습된 모델 저장\n",
        "joblib.dump(model, \"model.pkl\")\n"
      ]
    },
    {
      "cell_type": "code",
      "execution_count": null,
      "metadata": {},
      "outputs": [],
      "source": []
    }
  ],
  "metadata": {
    "colab": {
      "provenance": []
    },
    "kernelspec": {
      "display_name": "base",
      "language": "python",
      "name": "python3"
    },
    "language_info": {
      "codemirror_mode": {
        "name": "ipython",
        "version": 3
      },
      "file_extension": ".py",
      "mimetype": "text/x-python",
      "name": "python",
      "nbconvert_exporter": "python",
      "pygments_lexer": "ipython3",
      "version": "3.11.7"
    }
  },
  "nbformat": 4,
  "nbformat_minor": 0
}
