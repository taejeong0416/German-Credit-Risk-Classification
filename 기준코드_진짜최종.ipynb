{
  "cells": [
    {
      "cell_type": "code",
      "execution_count": 7,
      "metadata": {
        "colab": {
          "base_uri": "https://localhost:8080/",
          "height": 35
        },
        "id": "qCQPFOys4iG_",
        "outputId": "eebcf18a-980a-4d77-e768-6b073c2b2a1a"
      },
      "outputs": [],
      "source": [
        "import numpy as np\n",
        "import pandas as pd\n",
        "\n",
        "# from plotly.offline import init_notebook_mode, iplot, plot\n",
        "# init_notebook_mode(connected=True)\n",
        "\n",
        "\n",
        "from sklearn.preprocessing import StandardScaler\n",
        "from sklearn.model_selection import train_test_split, GridSearchCV\n",
        "from sklearn.metrics import accuracy_score, roc_curve, auc, classification_report, confusion_matrix, f1_score, recall_score\n",
        "from sklearn.model_selection import KFold, cross_val_score\n",
        "from sklearn.pipeline import Pipeline, FeatureUnion\n",
        "from sklearn.linear_model import LogisticRegression\n",
        "from sklearn.decomposition import PCA\n",
        "from sklearn.feature_selection import SelectKBest\n",
        "from sklearn.preprocessing import LabelEncoder\n",
        "from sklearn.preprocessing import StandardScaler, RobustScaler\n",
        "\n",
        "\n",
        "import warnings\n",
        "warnings.filterwarnings(\"ignore\")\n"
      ]
    },
    {
      "cell_type": "code",
      "execution_count": 8,
      "metadata": {},
      "outputs": [
        {
          "name": "stdout",
          "output_type": "stream",
          "text": [
            "python : 3.11.13\n",
            "sklearn: 1.2.2\n",
            "numpy  : 1.26.4\n",
            "scipy  : 1.11.4\n",
            "pandas : 2.1.4\n",
            "joblib : 1.5.2\n"
          ]
        }
      ],
      "source": [
        "import platform, sklearn, numpy as np, pandas as pd, scipy, joblib\n",
        "\n",
        "print(\"python :\", platform.python_version())\n",
        "print(\"sklearn:\", sklearn.__version__)\n",
        "print(\"numpy  :\", np.__version__)\n",
        "print(\"scipy  :\", scipy.__version__)\n",
        "print(\"pandas :\", pd.__version__)\n",
        "print(\"joblib :\", joblib.__version__)"
      ]
    },
    {
      "cell_type": "code",
      "execution_count": 9,
      "metadata": {
        "colab": {
          "base_uri": "https://localhost:8080/",
          "height": 206
        },
        "id": "8kdvzV2V4iHC",
        "outputId": "5278a3db-6d09-484d-ade1-435a25f45fe0"
      },
      "outputs": [
        {
          "data": {
            "text/html": [
              "<div>\n",
              "<style scoped>\n",
              "    .dataframe tbody tr th:only-of-type {\n",
              "        vertical-align: middle;\n",
              "    }\n",
              "\n",
              "    .dataframe tbody tr th {\n",
              "        vertical-align: top;\n",
              "    }\n",
              "\n",
              "    .dataframe thead th {\n",
              "        text-align: right;\n",
              "    }\n",
              "</style>\n",
              "<table border=\"1\" class=\"dataframe\">\n",
              "  <thead>\n",
              "    <tr style=\"text-align: right;\">\n",
              "      <th></th>\n",
              "      <th>Age</th>\n",
              "      <th>Sex</th>\n",
              "      <th>Job</th>\n",
              "      <th>Housing</th>\n",
              "      <th>Saving accounts</th>\n",
              "      <th>Checking account</th>\n",
              "      <th>Credit amount</th>\n",
              "      <th>Duration</th>\n",
              "      <th>Purpose</th>\n",
              "      <th>Risk</th>\n",
              "    </tr>\n",
              "  </thead>\n",
              "  <tbody>\n",
              "    <tr>\n",
              "      <th>0</th>\n",
              "      <td>28</td>\n",
              "      <td>male</td>\n",
              "      <td>2</td>\n",
              "      <td>own</td>\n",
              "      <td>NaN</td>\n",
              "      <td>moderate</td>\n",
              "      <td>1887</td>\n",
              "      <td>18</td>\n",
              "      <td>business</td>\n",
              "      <td>good</td>\n",
              "    </tr>\n",
              "    <tr>\n",
              "      <th>1</th>\n",
              "      <td>35</td>\n",
              "      <td>male</td>\n",
              "      <td>2</td>\n",
              "      <td>own</td>\n",
              "      <td>NaN</td>\n",
              "      <td>NaN</td>\n",
              "      <td>1979</td>\n",
              "      <td>15</td>\n",
              "      <td>radio/TV</td>\n",
              "      <td>good</td>\n",
              "    </tr>\n",
              "    <tr>\n",
              "      <th>2</th>\n",
              "      <td>20</td>\n",
              "      <td>female</td>\n",
              "      <td>2</td>\n",
              "      <td>own</td>\n",
              "      <td>rich</td>\n",
              "      <td>moderate</td>\n",
              "      <td>1577</td>\n",
              "      <td>11</td>\n",
              "      <td>furniture/equipment</td>\n",
              "      <td>good</td>\n",
              "    </tr>\n",
              "    <tr>\n",
              "      <th>3</th>\n",
              "      <td>24</td>\n",
              "      <td>female</td>\n",
              "      <td>1</td>\n",
              "      <td>own</td>\n",
              "      <td>little</td>\n",
              "      <td>little</td>\n",
              "      <td>626</td>\n",
              "      <td>12</td>\n",
              "      <td>radio/TV</td>\n",
              "      <td>bad</td>\n",
              "    </tr>\n",
              "    <tr>\n",
              "      <th>4</th>\n",
              "      <td>55</td>\n",
              "      <td>male</td>\n",
              "      <td>2</td>\n",
              "      <td>own</td>\n",
              "      <td>little</td>\n",
              "      <td>little</td>\n",
              "      <td>6872</td>\n",
              "      <td>24</td>\n",
              "      <td>furniture/equipment</td>\n",
              "      <td>bad</td>\n",
              "    </tr>\n",
              "  </tbody>\n",
              "</table>\n",
              "</div>"
            ],
            "text/plain": [
              "   Age     Sex  Job Housing Saving accounts Checking account  Credit amount  \\\n",
              "0   28    male    2     own             NaN         moderate           1887   \n",
              "1   35    male    2     own             NaN              NaN           1979   \n",
              "2   20  female    2     own            rich         moderate           1577   \n",
              "3   24  female    1     own          little           little            626   \n",
              "4   55    male    2     own          little           little           6872   \n",
              "\n",
              "   Duration              Purpose  Risk  \n",
              "0        18             business  good  \n",
              "1        15             radio/TV  good  \n",
              "2        11  furniture/equipment  good  \n",
              "3        12             radio/TV   bad  \n",
              "4        24  furniture/equipment   bad  "
            ]
          },
          "execution_count": 9,
          "metadata": {},
          "output_type": "execute_result"
        }
      ],
      "source": [
        "data = pd.read_csv(\"data\\german_credit_train.csv\")\n",
        "data.drop([\"Unnamed: 0\"], axis=1,inplace= True)\n",
        "\n",
        "data.head()"
      ]
    },
    {
      "cell_type": "markdown",
      "metadata": {
        "id": "W6vGFXjZz7bi"
      },
      "source": [
        "## 파생변수"
      ]
    },
    {
      "cell_type": "code",
      "execution_count": 10,
      "metadata": {
        "id": "OUT4PD-SvSnG"
      },
      "outputs": [],
      "source": [
        "# 파생변수 넣 말\n",
        "data[\"Monthly payment\"]=data[\"Credit amount\"]/data[\"Duration\"]"
      ]
    },
    {
      "cell_type": "code",
      "execution_count": 11,
      "metadata": {},
      "outputs": [],
      "source": [
        "data.drop(columns=[\"Duration\"], inplace=True)"
      ]
    },
    {
      "cell_type": "markdown",
      "metadata": {
        "id": "xjR0qMYP0Blu"
      },
      "source": [
        "## 결측치 unknwon"
      ]
    },
    {
      "cell_type": "code",
      "execution_count": 12,
      "metadata": {
        "id": "hvgh6hDE4iHC"
      },
      "outputs": [],
      "source": [
        "#결측치를 unknown으로 따로 지정한 버전\n",
        "data['Saving accounts'].fillna('Unknown', inplace=True)\n",
        "data['Checking account'].fillna('Unknown', inplace=True)"
      ]
    },
    {
      "cell_type": "markdown",
      "metadata": {
        "id": "LOLuhIqpz4Oc"
      },
      "source": [
        "## saving 라벨인코딩"
      ]
    },
    {
      "cell_type": "code",
      "execution_count": 13,
      "metadata": {
        "colab": {
          "base_uri": "https://localhost:8080/",
          "height": 243
        },
        "id": "dKK0ZGtjzkLq",
        "outputId": "2c31a4bf-a03a-4527-9931-ae4e739c1400"
      },
      "outputs": [
        {
          "data": {
            "text/html": [
              "<div>\n",
              "<style scoped>\n",
              "    .dataframe tbody tr th:only-of-type {\n",
              "        vertical-align: middle;\n",
              "    }\n",
              "\n",
              "    .dataframe tbody tr th {\n",
              "        vertical-align: top;\n",
              "    }\n",
              "\n",
              "    .dataframe thead th {\n",
              "        text-align: right;\n",
              "    }\n",
              "</style>\n",
              "<table border=\"1\" class=\"dataframe\">\n",
              "  <thead>\n",
              "    <tr style=\"text-align: right;\">\n",
              "      <th></th>\n",
              "      <th>Age</th>\n",
              "      <th>Job</th>\n",
              "      <th>Saving accounts</th>\n",
              "      <th>Credit amount</th>\n",
              "      <th>Risk</th>\n",
              "      <th>Monthly payment</th>\n",
              "      <th>Sex_male</th>\n",
              "      <th>Housing_own</th>\n",
              "      <th>Housing_rent</th>\n",
              "      <th>Checking account_little</th>\n",
              "      <th>Checking account_moderate</th>\n",
              "      <th>Checking account_rich</th>\n",
              "      <th>Purpose_car</th>\n",
              "      <th>Purpose_domestic appliances</th>\n",
              "      <th>Purpose_education</th>\n",
              "      <th>Purpose_furniture/equipment</th>\n",
              "      <th>Purpose_radio/TV</th>\n",
              "      <th>Purpose_repairs</th>\n",
              "      <th>Purpose_vacation/others</th>\n",
              "    </tr>\n",
              "  </thead>\n",
              "  <tbody>\n",
              "    <tr>\n",
              "      <th>0</th>\n",
              "      <td>28</td>\n",
              "      <td>2</td>\n",
              "      <td>4</td>\n",
              "      <td>1887</td>\n",
              "      <td>good</td>\n",
              "      <td>104.833333</td>\n",
              "      <td>True</td>\n",
              "      <td>True</td>\n",
              "      <td>False</td>\n",
              "      <td>False</td>\n",
              "      <td>True</td>\n",
              "      <td>False</td>\n",
              "      <td>False</td>\n",
              "      <td>False</td>\n",
              "      <td>False</td>\n",
              "      <td>False</td>\n",
              "      <td>False</td>\n",
              "      <td>False</td>\n",
              "      <td>False</td>\n",
              "    </tr>\n",
              "    <tr>\n",
              "      <th>1</th>\n",
              "      <td>35</td>\n",
              "      <td>2</td>\n",
              "      <td>4</td>\n",
              "      <td>1979</td>\n",
              "      <td>good</td>\n",
              "      <td>131.933333</td>\n",
              "      <td>True</td>\n",
              "      <td>True</td>\n",
              "      <td>False</td>\n",
              "      <td>False</td>\n",
              "      <td>False</td>\n",
              "      <td>False</td>\n",
              "      <td>False</td>\n",
              "      <td>False</td>\n",
              "      <td>False</td>\n",
              "      <td>False</td>\n",
              "      <td>True</td>\n",
              "      <td>False</td>\n",
              "      <td>False</td>\n",
              "    </tr>\n",
              "    <tr>\n",
              "      <th>2</th>\n",
              "      <td>20</td>\n",
              "      <td>2</td>\n",
              "      <td>3</td>\n",
              "      <td>1577</td>\n",
              "      <td>good</td>\n",
              "      <td>143.363636</td>\n",
              "      <td>False</td>\n",
              "      <td>True</td>\n",
              "      <td>False</td>\n",
              "      <td>False</td>\n",
              "      <td>True</td>\n",
              "      <td>False</td>\n",
              "      <td>False</td>\n",
              "      <td>False</td>\n",
              "      <td>False</td>\n",
              "      <td>True</td>\n",
              "      <td>False</td>\n",
              "      <td>False</td>\n",
              "      <td>False</td>\n",
              "    </tr>\n",
              "    <tr>\n",
              "      <th>3</th>\n",
              "      <td>24</td>\n",
              "      <td>1</td>\n",
              "      <td>0</td>\n",
              "      <td>626</td>\n",
              "      <td>bad</td>\n",
              "      <td>52.166667</td>\n",
              "      <td>False</td>\n",
              "      <td>True</td>\n",
              "      <td>False</td>\n",
              "      <td>True</td>\n",
              "      <td>False</td>\n",
              "      <td>False</td>\n",
              "      <td>False</td>\n",
              "      <td>False</td>\n",
              "      <td>False</td>\n",
              "      <td>False</td>\n",
              "      <td>True</td>\n",
              "      <td>False</td>\n",
              "      <td>False</td>\n",
              "    </tr>\n",
              "    <tr>\n",
              "      <th>4</th>\n",
              "      <td>55</td>\n",
              "      <td>2</td>\n",
              "      <td>0</td>\n",
              "      <td>6872</td>\n",
              "      <td>bad</td>\n",
              "      <td>286.333333</td>\n",
              "      <td>True</td>\n",
              "      <td>True</td>\n",
              "      <td>False</td>\n",
              "      <td>True</td>\n",
              "      <td>False</td>\n",
              "      <td>False</td>\n",
              "      <td>False</td>\n",
              "      <td>False</td>\n",
              "      <td>False</td>\n",
              "      <td>True</td>\n",
              "      <td>False</td>\n",
              "      <td>False</td>\n",
              "      <td>False</td>\n",
              "    </tr>\n",
              "  </tbody>\n",
              "</table>\n",
              "</div>"
            ],
            "text/plain": [
              "   Age  Job  Saving accounts  Credit amount  Risk  Monthly payment  Sex_male  \\\n",
              "0   28    2                4           1887  good       104.833333      True   \n",
              "1   35    2                4           1979  good       131.933333      True   \n",
              "2   20    2                3           1577  good       143.363636     False   \n",
              "3   24    1                0            626   bad        52.166667     False   \n",
              "4   55    2                0           6872   bad       286.333333      True   \n",
              "\n",
              "   Housing_own  Housing_rent  Checking account_little  \\\n",
              "0         True         False                    False   \n",
              "1         True         False                    False   \n",
              "2         True         False                    False   \n",
              "3         True         False                     True   \n",
              "4         True         False                     True   \n",
              "\n",
              "   Checking account_moderate  Checking account_rich  Purpose_car  \\\n",
              "0                       True                  False        False   \n",
              "1                      False                  False        False   \n",
              "2                       True                  False        False   \n",
              "3                      False                  False        False   \n",
              "4                      False                  False        False   \n",
              "\n",
              "   Purpose_domestic appliances  Purpose_education  \\\n",
              "0                        False              False   \n",
              "1                        False              False   \n",
              "2                        False              False   \n",
              "3                        False              False   \n",
              "4                        False              False   \n",
              "\n",
              "   Purpose_furniture/equipment  Purpose_radio/TV  Purpose_repairs  \\\n",
              "0                        False             False            False   \n",
              "1                        False              True            False   \n",
              "2                         True             False            False   \n",
              "3                        False              True            False   \n",
              "4                         True             False            False   \n",
              "\n",
              "   Purpose_vacation/others  \n",
              "0                    False  \n",
              "1                    False  \n",
              "2                    False  \n",
              "3                    False  \n",
              "4                    False  "
            ]
          },
          "execution_count": 13,
          "metadata": {},
          "output_type": "execute_result"
        }
      ],
      "source": [
        "categoric_vars_list = [\"Sex\", \"Job\", \"Housing\", \"Saving accounts\", \"Checking account\", \"Purpose\", \"Risk\"]\n",
        "numeric_vars_list = [\"Age\", \"Credit amount\"]\n",
        "\n",
        "df = data.copy()\n",
        "\n",
        "# Job과 Saving accounts는 Label Encoding\n",
        "le_job = LabelEncoder()\n",
        "df[\"Job\"] = le_job.fit_transform(df[\"Job\"])\n",
        "\n",
        "saving_order = [\"little\", \"moderate\", \"quite rich\", \"rich\", \"Unknown\"]\n",
        "saving_map = {val: idx for idx, val in enumerate(saving_order)}\n",
        "\n",
        "df[\"Saving accounts\"] = df[\"Saving accounts\"].map(saving_map)\n",
        "\n",
        "\n",
        "\n",
        "# checking_order = [\"little\", \"moderate\", \"Unknown\", \"rich\"]\n",
        "# checking_map = {val: idx for idx, val in enumerate(checking_order)}\n",
        "\n",
        "# df[\"Checking account\"] = df[\"Checking account\"].map(checking_map)\n",
        "\n",
        "\n",
        "\n",
        "# 나머지 범주형은 One-Hot Encoding (Risk 제외)\n",
        "categorical_for_ohe = [col for col in categoric_vars_list if col not in [\"Job\", \"Saving accounts\", \"Risk\"]]\n",
        "\n",
        "df = pd.get_dummies(df, columns=categorical_for_ohe, drop_first=True)\n",
        "\n",
        "df.head()\n"
      ]
    },
    {
      "cell_type": "markdown",
      "metadata": {
        "id": "A4sBWKcUz96G"
      },
      "source": [
        "## 데이터 분할 비율"
      ]
    },
    {
      "cell_type": "markdown",
      "metadata": {
        "id": "pj3dOvZa0Gip"
      },
      "source": [
        "## Duration robust 스케일링"
      ]
    },
    {
      "cell_type": "code",
      "execution_count": 14,
      "metadata": {
        "id": "LR5nnGOf4iHD"
      },
      "outputs": [],
      "source": [
        "# 타겟 변수 생성\n",
        "y = (df[\"Risk\"] == \"good\").astype(int)\n",
        "X = df.drop([\"Risk\"], axis=1)\n",
        "\n",
        "# 데이터 분할 비율 8:2 버전\n",
        "X_train, X_test, y_train, y_test = train_test_split(\n",
        "    X, y, test_size=0.3, stratify=y, random_state=42\n",
        ")\n",
        "\n",
        "# 스케일링 함수\n",
        "# 현재 duration을 robust scaling으로 처리한 버전\n",
        "\n",
        "def scale_numeric(X_train, X_test):\n",
        "    scaler_age = StandardScaler()\n",
        "    scaler_duration = RobustScaler()\n",
        "    scaler_credit = StandardScaler()\n",
        "\n",
        "    # Age → StandardScaler\n",
        "    scaler_age.fit(X_train[[\"Age\"]])\n",
        "    X_train.loc[:, [\"Age\"]] = scaler_age.transform(X_train[[\"Age\"]])\n",
        "    X_test.loc[:, [\"Age\"]] = scaler_age.transform(X_test[[\"Age\"]])\n",
        "\n",
        "    # # Duration → RobustScaler\n",
        "    # scaler_duration.fit(X_train[[\"Duration\"]])\n",
        "    # X_train.loc[:, [\"Duration\"]] = scaler_duration.transform(X_train[[\"Duration\"]])\n",
        "    # X_test.loc[:, [\"Duration\"]] = scaler_duration.transform(X_test[[\"Duration\"]])\n",
        "\n",
        "    # Credit amount → 로그 변환 + StandardScaler\n",
        "    X_train_credit_log = np.log1p(X_train[\"Credit amount\"])\n",
        "    X_test_credit_log = np.log1p(X_test[\"Credit amount\"])\n",
        "\n",
        "    scaler_credit.fit(X_train_credit_log.values.reshape(-1, 1))\n",
        "    X_train.loc[:, [\"Credit amount\"]] = scaler_credit.transform(X_train_credit_log.values.reshape(-1, 1))\n",
        "    X_test.loc[:, [\"Credit amount\"]] = scaler_credit.transform(X_test_credit_log.values.reshape(-1, 1))\n",
        "\n",
        "    # Monthly payment → StandardScaler\n",
        "    if \"Monthly payment\" in X_train.columns:\n",
        "        scaler_monthly = StandardScaler()\n",
        "        scaler_monthly.fit(X_train[[\"Monthly payment\"]])\n",
        "        X_train.loc[:, [\"Monthly payment\"]] = scaler_monthly.transform(X_train[[\"Monthly payment\"]])\n",
        "        X_test.loc[:, [\"Monthly payment\"]] = scaler_monthly.transform(X_test[[\"Monthly payment\"]])\n",
        "\n",
        "    return X_train, X_test\n",
        "\n",
        "\n",
        "\n",
        "# 스케일링 적용\n",
        "X_train, X_test = scale_numeric(X_train.copy(), X_test.copy())\n"
      ]
    },
    {
      "cell_type": "markdown",
      "metadata": {
        "id": "i-j0Ft2R4iHE"
      },
      "source": [
        "-------------------------------------------\n",
        "\n",
        "여기부터 모델\n",
        "\n",
        "-------------------------------------------"
      ]
    },
    {
      "cell_type": "markdown",
      "metadata": {
        "id": "Ud_YmWU44iHG"
      },
      "source": [
        "랜덤포레스트"
      ]
    },
    {
      "cell_type": "code",
      "execution_count": 15,
      "metadata": {
        "colab": {
          "base_uri": "https://localhost:8080/"
        },
        "id": "n3lcD-jB4iHG",
        "outputId": "c9df7829-ff75-4bd1-e0ee-e35dc7d82206"
      },
      "outputs": [
        {
          "name": "stdout",
          "output_type": "stream",
          "text": [
            "Fitting 5 folds for each of 144 candidates, totalling 720 fits\n",
            "Best hyperparams: {'max_depth': 6, 'min_samples_leaf': 4, 'min_samples_split': 9, 'n_estimators': 32}\n",
            "Best threshold (train, by F1): 0.543868\n",
            "Random Forest Results (threshold-optimized)\n",
            "Accuracy: 0.792\n",
            "Recall:   0.958\n",
            "F1 Score: 0.866\n",
            "\n"
          ]
        }
      ],
      "source": [
        "from sklearn.ensemble import RandomForestClassifier\n",
        "from sklearn.model_selection import GridSearchCV, StratifiedKFold, cross_val_predict\n",
        "from sklearn.metrics import accuracy_score, recall_score, f1_score, confusion_matrix, precision_recall_curve\n",
        "import numpy as np\n",
        "\n",
        "rf = RandomForestClassifier(random_state=42)\n",
        "\n",
        "param_grid = {\n",
        "    'n_estimators': [31, 32, 33, 34],\n",
        "    'max_depth': [6, 7, 8],\n",
        "    'min_samples_split': [6, 7, 8, 9],\n",
        "    'min_samples_leaf': [4, 5, 6]\n",
        "}\n",
        "\n",
        "cv = StratifiedKFold(n_splits=5, shuffle=True, random_state=42)\n",
        "\n",
        "grid_search_rf = GridSearchCV(\n",
        "    estimator=rf,\n",
        "    param_grid=param_grid,\n",
        "    scoring='f1',\n",
        "    cv=cv,\n",
        "    verbose=1,\n",
        "    n_jobs=-1\n",
        ")\n",
        "grid_search_rf.fit(X_train, y_train)\n",
        "\n",
        "print(\"Best hyperparams:\", grid_search_rf.best_params_)\n",
        "\n",
        "best_rf = grid_search_rf.best_estimator_\n",
        "\n",
        "oof_probs = cross_val_predict(best_rf, X_train, y_train, cv=cv, method=\"predict_proba\")[:, 1]\n",
        "p, r, th = precision_recall_curve(y_train, oof_probs)\n",
        "f1s = 2 * p[:-1] * r[:-1] / (p[:-1] + r[:-1] + 1e-12)\n",
        "best_th = th[np.argmax(f1s)]\n",
        "print(f\"Best threshold (train, by F1): {best_th:.6f}\")\n",
        "\n",
        "best_rf.fit(X_train, y_train)\n",
        "y_pred_prob_rf = best_rf.predict_proba(X_test)[:, 1]\n",
        "y_pred_rf = (y_pred_prob_rf >= best_th).astype(int)\n",
        "\n",
        "\n",
        "accuracy = accuracy_score(y_test, y_pred_rf)\n",
        "recall   = recall_score(y_test, y_pred_rf)\n",
        "f1       = f1_score(y_test, y_pred_rf)\n",
        "\n",
        "print(\"Random Forest Results (threshold-optimized)\")\n",
        "print(f\"Accuracy: {accuracy:.3f}\")\n",
        "print(f\"Recall:   {recall:.3f}\")\n",
        "print(f\"F1 Score: {f1:.3f}\\n\")\n"
      ]
    },
    {
      "cell_type": "code",
      "execution_count": 16,
      "metadata": {},
      "outputs": [
        {
          "data": {
            "text/plain": [
              "['model.pkl']"
            ]
          },
          "execution_count": 16,
          "metadata": {},
          "output_type": "execute_result"
        }
      ],
      "source": [
        "# train.py 같은 파일\n",
        "import joblib\n",
        "from sklearn.model_selection import train_test_split\n",
        "from sklearn.ensemble import RandomForestClassifier\n",
        "\n",
        "model = RandomForestClassifier()\n",
        "model.fit(X_train, y_train)\n",
        "\n",
        "# 학습된 모델 저장\n",
        "joblib.dump(model, \"model.pkl\")\n"
      ]
    },
    {
      "cell_type": "code",
      "execution_count": null,
      "metadata": {},
      "outputs": [],
      "source": []
    }
  ],
  "metadata": {
    "colab": {
      "provenance": []
    },
    "kernelspec": {
      "display_name": "base",
      "language": "python",
      "name": "python3"
    },
    "language_info": {
      "codemirror_mode": {
        "name": "ipython",
        "version": 3
      },
      "file_extension": ".py",
      "mimetype": "text/x-python",
      "name": "python",
      "nbconvert_exporter": "python",
      "pygments_lexer": "ipython3",
      "version": "3.11.13"
    }
  },
  "nbformat": 4,
  "nbformat_minor": 0
}
